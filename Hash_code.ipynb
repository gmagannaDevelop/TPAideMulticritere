{
 "cells": [
  {
   "cell_type": "code",
   "execution_count": 22,
   "metadata": {},
   "outputs": [],
   "source": [
    "import math\n",
    "import numpy as np\n",
    "import os"
   ]
  },
  {
   "cell_type": "code",
   "execution_count": 2,
   "metadata": {},
   "outputs": [
    {
     "name": "stdout",
     "output_type": "stream",
     "text": [
      "a_example.in   b_should_be_easy.in  d_metropolis.in\r\n",
      "a_example.out  c_no_hurry.in        e_high_bonus.in\r\n"
     ]
    }
   ],
   "source": [
    "ls Datasets-20190325/"
   ]
  },
  {
   "cell_type": "code",
   "execution_count": 32,
   "metadata": {},
   "outputs": [],
   "source": [
    "class Vehicule(object):\n",
    "    \"\"\" Représenter un véhicule avec sa position.\n",
    "    \"\"\"\n",
    "    \n",
    "    def __init__(self, point, free=True):\n",
    "        self.x = point[0]\n",
    "        self.y = point[1]\n",
    "        self.free = True\n",
    "        self.trajets = []\n",
    "        self.completed = []\n",
    "    \n",
    "    @property\n",
    "    def n_completed_trips(self):\n",
    "        return len(self.completed)\n",
    "\n",
    "    @property\n",
    "    def completed_trips(self):\n",
    "        return [vehicule.number for vehicule in self.completed]\n",
    "    \n",
    "    @property\n",
    "    def position(self):\n",
    "        return (self.x, self.y)\n",
    "    \n",
    "    @property\n",
    "    def is_free(self):\n",
    "        return self.free\n",
    "    \n",
    "    def occupy(self):\n",
    "        self.free = False\n",
    "    \n",
    "    def add_trip(self, trip):\n",
    "        self.occupy()\n",
    "        self.trajet.append(trip)\n",
    "    \n",
    "    def get_distance(self, point):\n",
    "        \"\"\" Calcule la distance de la position actuelle du vehicule\n",
    "        au point desiré. \n",
    "        \"\"\"\n",
    "        return np.abs(point[0] - self.x) + np.abs(point[1] - self.y)\n",
    "    \n",
    "    def move(self):\n",
    "        if self.position != self.trajets[-1].start:\n",
    "            pass\n",
    "    \n",
    "    def move_x(self, point):\n",
    "        if self.x != point[0]:\n",
    "            pas_x = math.copysign(1, point[0] - self.x)\n",
    "            self.x += pas_x\n",
    "        return self.position\n",
    "    \n",
    "    def move_y(self, point):\n",
    "        if self.y != point[1]:\n",
    "            pas_y = math.copysign(1, point[1] - self.y)\n",
    "            self.y += pas_y\n",
    "        return self.position\n",
    "\n",
    "    '''\n",
    "    def _finish(self, point):\n",
    "        pas_x = math.copysign(1, point[0] - self.x)\n",
    "        pas_y = math.copysign(1, point[1] - self.y)\n",
    "        while self.x != point[0]:\n",
    "            self.x += pas_x\n",
    "            print(f'({self.x}, {self.y})')\n",
    "        while self.y != point[1]:\n",
    "            self.y += pas_y\n",
    "            print(f'({self.x}, {self.y})')\n",
    "    '''"
   ]
  },
  {
   "cell_type": "code",
   "execution_count": 29,
   "metadata": {},
   "outputs": [],
   "source": [
    "class Trajet(object):\n",
    "    \"\"\"\n",
    "    \"\"\"\n",
    "    \n",
    "    def __init__(self, number, start, finish, earliest, latest, completed=False):\n",
    "        self._number = number\n",
    "        self.start = start\n",
    "        self.finish = finish \n",
    "        self.earliest = earliest\n",
    "        self.latest = latest\n",
    "        self.completed = completed\n",
    "    \n",
    "    @property\n",
    "    def number(self):\n",
    "        return self._number\n",
    "    \n",
    "    def get_distance(self, point):\n",
    "        return np.abs(point[0] - self.x) + np.abs(point[1] - self.y)\n",
    "    \n",
    "    def get_closest(self, cars):\n",
    "        _tmp = (x.position for x in cars)\n",
    "        distances = list(map(self.get_distance, _tmp))\n",
    "        idx = distances.index(min(distances))\n",
    "        return idx\n",
    "    \n",
    "    def assign(self, car):\n",
    "        car\n",
    "    \n",
    "    \n",
    "        "
   ]
  },
  {
   "cell_type": "code",
   "execution_count": 25,
   "metadata": {},
   "outputs": [],
   "source": [
    "infile = 'Datasets-20190325/b_should_be_easy.in'\n",
    "outfile = (os.path.split(infile)[1]).replace('in', 'out')"
   ]
  },
  {
   "cell_type": "code",
   "execution_count": 27,
   "metadata": {},
   "outputs": [],
   "source": [
    "with open(infile, 'r') as f:\n",
    "    trajets = []\n",
    "    for i, line in enumerate(f):\n",
    "        _tmp = list(map(int, line.split(' ')))\n",
    "        if i == 0:\n",
    "            rows, columns, vehicles, rides, bonus, steps = _tmp\n",
    "        else:\n",
    "            start  = (_tmp[0], _tmp[1])\n",
    "            finish = (_tmp[2], _tmp[3])\n",
    "            earliest = _tmp[4]\n",
    "            latest = _tmp[5]\n",
    "            \n",
    "            trajets.append({\n",
    "                'number': i,\n",
    "                'start': start,\n",
    "                'finish': finish, \n",
    "                'earliest': earliest,\n",
    "                'latest': latest\n",
    "            })"
   ]
  },
  {
   "cell_type": "code",
   "execution_count": 21,
   "metadata": {},
   "outputs": [
    {
     "data": {
      "text/plain": [
       "300"
      ]
     },
     "execution_count": 21,
     "metadata": {},
     "output_type": "execute_result"
    }
   ],
   "source": [
    "len(trajets)"
   ]
  },
  {
   "cell_type": "code",
   "execution_count": 34,
   "metadata": {},
   "outputs": [],
   "source": [
    "vehicules = [Vehicule((0, 0)) for i in range(vehicles)]"
   ]
  },
  {
   "cell_type": "code",
   "execution_count": null,
   "metadata": {},
   "outputs": [],
   "source": []
  },
  {
   "cell_type": "code",
   "execution_count": 39,
   "metadata": {},
   "outputs": [],
   "source": [
    "with open(outfile, 'w') as f:\n",
    "    for vehicule in vehicules:\n",
    "        f.write(f'{vehicule.n_completed_trips} ')\n",
    "        for trip in vehicule.completed_trips:\n",
    "            f.write(f'{trip} ')\n",
    "        f.write('\\n')"
   ]
  },
  {
   "cell_type": "code",
   "execution_count": 40,
   "metadata": {},
   "outputs": [
    {
     "name": "stdout",
     "output_type": "stream",
     "text": [
      "0 \r\n",
      "0 \r\n",
      "0 \r\n",
      "0 \r\n",
      "0 \r\n",
      "0 \r\n",
      "0 \r\n",
      "0 \r\n",
      "0 \r\n",
      "0 \r\n",
      "0 \r\n",
      "0 \r\n",
      "0 \r\n",
      "0 \r\n",
      "0 \r\n",
      "0 \r\n",
      "0 \r\n",
      "0 \r\n",
      "0 \r\n",
      "0 \r\n",
      "0 \r\n",
      "0 \r\n",
      "0 \r\n",
      "0 \r\n",
      "0 \r\n",
      "0 \r\n",
      "0 \r\n",
      "0 \r\n",
      "0 \r\n",
      "0 \r\n",
      "0 \r\n",
      "0 \r\n",
      "0 \r\n",
      "0 \r\n",
      "0 \r\n",
      "0 \r\n",
      "0 \r\n",
      "0 \r\n",
      "0 \r\n",
      "0 \r\n",
      "0 \r\n",
      "0 \r\n",
      "0 \r\n",
      "0 \r\n",
      "0 \r\n",
      "0 \r\n",
      "0 \r\n",
      "0 \r\n",
      "0 \r\n",
      "0 \r\n",
      "0 \r\n",
      "0 \r\n",
      "0 \r\n",
      "0 \r\n",
      "0 \r\n",
      "0 \r\n",
      "0 \r\n",
      "0 \r\n",
      "0 \r\n",
      "0 \r\n",
      "0 \r\n",
      "0 \r\n",
      "0 \r\n",
      "0 \r\n",
      "0 \r\n",
      "0 \r\n",
      "0 \r\n",
      "0 \r\n",
      "0 \r\n",
      "0 \r\n",
      "0 \r\n",
      "0 \r\n",
      "0 \r\n",
      "0 \r\n",
      "0 \r\n",
      "0 \r\n",
      "0 \r\n",
      "0 \r\n",
      "0 \r\n",
      "0 \r\n",
      "0 \r\n",
      "0 \r\n",
      "0 \r\n",
      "0 \r\n",
      "0 \r\n",
      "0 \r\n",
      "0 \r\n",
      "0 \r\n",
      "0 \r\n",
      "0 \r\n",
      "0 \r\n",
      "0 \r\n",
      "0 \r\n",
      "0 \r\n",
      "0 \r\n",
      "0 \r\n",
      "0 \r\n",
      "0 \r\n",
      "0 \r\n",
      "0 \r\n"
     ]
    }
   ],
   "source": [
    "cat b_should_be_easy.out"
   ]
  },
  {
   "cell_type": "code",
   "execution_count": null,
   "metadata": {},
   "outputs": [],
   "source": [
    "\n"
   ]
  },
  {
   "cell_type": "code",
   "execution_count": null,
   "metadata": {},
   "outputs": [],
   "source": []
  },
  {
   "cell_type": "code",
   "execution_count": null,
   "metadata": {},
   "outputs": [],
   "source": []
  }
 ],
 "metadata": {
  "kernelspec": {
   "display_name": "Python [conda env:DiabManager]",
   "language": "python",
   "name": "conda-env-DiabManager-py"
  },
  "language_info": {
   "codemirror_mode": {
    "name": "ipython",
    "version": 3
   },
   "file_extension": ".py",
   "mimetype": "text/x-python",
   "name": "python",
   "nbconvert_exporter": "python",
   "pygments_lexer": "ipython3",
   "version": "3.6.8"
  }
 },
 "nbformat": 4,
 "nbformat_minor": 2
}
