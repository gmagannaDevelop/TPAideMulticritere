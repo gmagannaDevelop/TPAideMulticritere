{
 "cells": [
  {
   "cell_type": "code",
   "execution_count": 53,
   "metadata": {},
   "outputs": [],
   "source": [
    "import math\n",
    "import numpy as np"
   ]
  },
  {
   "cell_type": "code",
   "execution_count": 2,
   "metadata": {},
   "outputs": [
    {
     "name": "stdout",
     "output_type": "stream",
     "text": [
      "a_example.in   b_should_be_easy.in  d_metropolis.in\r\n",
      "a_example.out  c_no_hurry.in        e_high_bonus.in\r\n"
     ]
    }
   ],
   "source": [
    "ls Datasets-20190325/"
   ]
  },
  {
   "cell_type": "code",
   "execution_count": 119,
   "metadata": {},
   "outputs": [],
   "source": [
    "class Vehicule(object):\n",
    "    \"\"\" Représenter un véhicule avec sa position.\n",
    "    \"\"\"\n",
    "    \n",
    "    def __init__(self, point):\n",
    "        self.x = point[0]\n",
    "        self.y = point[1]\n",
    "     \n",
    "    @property\n",
    "    def position(self):\n",
    "        return (self.x, self.y)\n",
    "    \n",
    "    def get_distance(self, point):\n",
    "        \"\"\" Calcule la distance de la position actuelle du vehicule\n",
    "        au point desiré. \n",
    "        \"\"\"\n",
    "        return np.abs(point[0] - self.x) + np.abs(point[1] - self.y)\n",
    "    \n",
    "    def _finish(self, point):\n",
    "        pas_x = math.copysign(1, point[0] - self.x)\n",
    "        pas_y = math.copysign(1, point[1] - self.y)\n",
    "        while self.x != point[0]:\n",
    "            self.x += pas_x\n",
    "            print(f'({self.x}, {self.y})')\n",
    "        while self.y != point[1]:\n",
    "            self.y += pas_y\n",
    "            print(f'({self.x}, {self.y})')\n",
    "            \n",
    "    def move_x(self, point):\n",
    "        if self.x != point[0]:\n",
    "            pas_x = math.copysign(1, point[0] - self.x)\n",
    "            self.x += pas_x\n",
    "        return self.position\n",
    "    \n",
    "    def move_y(self, point):\n",
    "        if self.y != point[1]:\n",
    "            pas_y = math.copysign(1, point[1] - self.y)\n",
    "            self.y += pas_y\n",
    "        return self.position\n"
   ]
  },
  {
   "cell_type": "code",
   "execution_count": 123,
   "metadata": {},
   "outputs": [],
   "source": [
    "class Trajet(object):\n",
    "    \"\"\"\n",
    "    \"\"\"\n",
    "    \n",
    "    def __init__(self, start, finish, earliest, latest):\n",
    "        self.start = start\n",
    "        self.finish = finish \n",
    "        self.earliest = earliest\n",
    "        self.latest = latest\n",
    "    \n",
    "    def get_distance(self, point):\n",
    "        return np.abs(point[0] - self.x) + np.abs(point[1] - self.y)\n",
    "    \n",
    "    def get_closest(self, cars):\n",
    "        _tmp = (x.position for x in cars)\n",
    "        min(map(self.get_distance, _tmp))\n",
    "        return 0\n",
    "    [car0, car1, car2]\n",
    "        "
   ]
  },
  {
   "cell_type": "code",
   "execution_count": 110,
   "metadata": {},
   "outputs": [],
   "source": [
    "with open('Datasets-20190325/b_should_be_easy.in', 'r') as f:\n",
    "    trajets = []\n",
    "    for i, line in enumerate(f):\n",
    "        _tmp = list(map(int, line.split(' ')))\n",
    "        if i == 0:\n",
    "            rows, columns, vehicles, rides, bonus, steps = _tmp\n",
    "        else:\n",
    "            start  = (_tmp[0], _tmp[1])\n",
    "            finish = (_tmp[2], _tmp[3])\n",
    "            earliest = _tmp[4]\n",
    "            latest = _tmp[5]\n",
    "            \n",
    "            trajets.append({\n",
    "                'start': start,\n",
    "                'finish': finish, \n",
    "                'earliest': earliest,\n",
    "                'latest': latest\n",
    "            })"
   ]
  },
  {
   "cell_type": "code",
   "execution_count": 112,
   "metadata": {},
   "outputs": [
    {
     "data": {
      "text/plain": [
       "300"
      ]
     },
     "execution_count": 112,
     "metadata": {},
     "output_type": "execute_result"
    }
   ],
   "source": [
    "len(trajets)"
   ]
  },
  {
   "cell_type": "code",
   "execution_count": 113,
   "metadata": {},
   "outputs": [],
   "source": [
    "vehicules = [Vehicule((0, 0)) for i in range(vehicles)]"
   ]
  },
  {
   "cell_type": "code",
   "execution_count": null,
   "metadata": {},
   "outputs": [],
   "source": [
    "for i in range(steps):\n",
    "    "
   ]
  },
  {
   "cell_type": "code",
   "execution_count": 121,
   "metadata": {},
   "outputs": [
    {
     "data": {
      "text/plain": [
       "0"
      ]
     },
     "execution_count": 121,
     "metadata": {},
     "output_type": "execute_result"
    }
   ],
   "source": [
    "min(map(lambda x: x, [i for i in range(10)]))"
   ]
  },
  {
   "cell_type": "code",
   "execution_count": 124,
   "metadata": {},
   "outputs": [
    {
     "data": {
      "text/plain": [
       "[0, 1, 2, 3, 4, 5, 6, 7, 8, 9, 10, 11, 12, 13, 14, 15, 16, 17, 18, 19]"
      ]
     },
     "execution_count": 124,
     "metadata": {},
     "output_type": "execute_result"
    }
   ],
   "source": [
    "[ for i in range(20)]"
   ]
  },
  {
   "cell_type": "code",
   "execution_count": null,
   "metadata": {},
   "outputs": [],
   "source": [
    "\n"
   ]
  },
  {
   "cell_type": "code",
   "execution_count": null,
   "metadata": {},
   "outputs": [],
   "source": []
  },
  {
   "cell_type": "code",
   "execution_count": null,
   "metadata": {},
   "outputs": [],
   "source": []
  }
 ],
 "metadata": {
  "kernelspec": {
   "display_name": "Python [conda env:DiabManager]",
   "language": "python",
   "name": "conda-env-DiabManager-py"
  },
  "language_info": {
   "codemirror_mode": {
    "name": "ipython",
    "version": 3
   },
   "file_extension": ".py",
   "mimetype": "text/x-python",
   "name": "python",
   "nbconvert_exporter": "python",
   "pygments_lexer": "ipython3",
   "version": "3.6.8"
  }
 },
 "nbformat": 4,
 "nbformat_minor": 2
}
